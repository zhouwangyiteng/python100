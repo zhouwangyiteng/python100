{
 "cells": [
  {
   "cell_type": "code",
   "execution_count": null,
   "metadata": {
    "collapsed": true
   },
   "outputs": [],
   "source": [
    "import socket\n",
    "\n",
    "def retBanner(ip, port):\n",
    "    try:\n",
    "        socket.setdefaulttimeout(2)\n",
    "        s = socket.socket()\n",
    "        s.connect((ip, port))\n",
    "        banner = s.recv(1024)\n",
    "        return banner\n",
    "    except Exception, e:\n",
    "        return\n",
    "    \n",
    "def checkVulns(banner):\n",
    "    if 'FreeFloat Ftp Server (Version 1.00)' in banner:\n",
    "        print '[+] FreeFloat Ftp Server is vulnerable.'\n",
    "    elif '3Com 3CDaemon FTP Server Version 2.0' in banner:\n",
    "        print '[+] 3CDaemon Ftp Server is vulnerable.'\n",
    "    elif 'Ability Server 2.34' in banner:\n",
    "        print '[+] Ability Server is vulnerable.'\n",
    "    elif 'Sami Ftp Server 2.0.2' in banner:\n",
    "        print '[+] Sami FTP Server is vulnerable.'\n",
    "    else:\n",
    "        print '[-] FTP Server is not vulnerable.'\n",
    "    return"
   ]
  },
  {
   "cell_type": "code",
   "execution_count": null,
   "metadata": {
    "collapsed": true
   },
   "outputs": [],
   "source": []
  }
 ],
 "metadata": {
  "kernelspec": {
   "display_name": "Python 2",
   "language": "python",
   "name": "python2"
  },
  "language_info": {
   "codemirror_mode": {
    "name": "ipython",
    "version": 2
   },
   "file_extension": ".py",
   "mimetype": "text/x-python",
   "name": "python",
   "nbconvert_exporter": "python",
   "pygments_lexer": "ipython2",
   "version": "2.7.6"
  }
 },
 "nbformat": 4,
 "nbformat_minor": 1
}
